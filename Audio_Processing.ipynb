{
 "cells": [
  {
   "cell_type": "markdown",
   "id": "e4b6ce1a-3543-4352-9123-b82519d1e4d7",
   "metadata": {},
   "source": [
    "# Audio Processing"
   ]
  },
  {
   "cell_type": "markdown",
   "id": "75ef026f-e21f-4a68-a92b-7bbad506a507",
   "metadata": {},
   "source": [
    "- Sound is created by the compression of air due to vibrations.\n",
    "- Depending on the degree of compression, it vibrates and is expressed as a **wave**, a phenomenon that propagates through space or a medium.\n",
    "- Information that can be obtained from a wave:\n",
    "  - Phase; Degrees of displacement\n",
    "  - Amplitude; Intensity\n",
    "  - Frequency"
   ]
  },
  {
   "cell_type": "markdown",
   "id": "9f7371f0-67f4-4484-9d25-3d2cb7393aba",
   "metadata": {},
   "source": [
    "### Python Audio Library\n",
    "- librosa is a useful Python library for various types of audio processing.\n",
    "- I use \"torchaudio\" for audio dataset\n",
    "- (!pip install torchaudio) & (!pip install librosa)"
   ]
  },
  {
   "cell_type": "code",
   "execution_count": 7,
   "id": "379f7563-8f3f-4f14-9571-48f2da058465",
   "metadata": {},
   "outputs": [],
   "source": [
    "import numpy as np\n",
    "import pandas as pd\n",
    "import matplotlib.pyplot as plt\n",
    "plt.style.use(\"seaborn-v0_8-white\") # optional\n",
    "\n",
    "import librosa\n",
    "import librosa.display\n",
    "import torch\n",
    "import torchaudio\n",
    "import IPython.display as ipd"
   ]
  },
  {
   "cell_type": "markdown",
   "id": "03d37f3c-588e-4e90-9c07-ddbc4830af1d",
   "metadata": {},
   "source": [
    "### Audio dataset\n",
    "- Import the built-in dataset from torchaudio in PyTorch.\n",
    "- It might take some time due to the dataset's size."
   ]
  },
  {
   "cell_type": "code",
   "execution_count": 8,
   "id": "8808e9f2-5de5-452e-8d02-b88d9222177f",
   "metadata": {},
   "outputs": [
    {
     "name": "stderr",
     "output_type": "stream",
     "text": [
      "100%|██████████████████████████████████████| 5.95G/5.95G [17:29<00:00, 6.09MB/s]\n",
      "100%|████████████████████████████████████████| 331M/331M [00:57<00:00, 6.06MB/s]\n"
     ]
    }
   ],
   "source": [
    "train_dataset = torchaudio.datasets.LIBRISPEECH(\"./\", url = \"train-clean-100\", download = True)\n",
    "test_dataset = torchaudio.datasets.LIBRISPEECH(\"./\", url = \"test-clean\", download = True)"
   ]
  },
  {
   "cell_type": "markdown",
   "id": "1a69467a-17b1-446b-bada-409c5d470f21",
   "metadata": {},
   "source": [
    "- Check the imported dataset\n",
    "  - The first array represents to check the audio data.\n",
    "  - The second array represents to check the sampling rate of the data.\n",
    "  - Check the data shape.\n",
    "  - The length of the data alone does not indicate the duration (i.e., how many seconds the audio corresponds to)."
   ]
  },
  {
   "cell_type": "code",
   "execution_count": 15,
   "id": "92e4b42f-cf5f-42df-a863-6f433a2518f5",
   "metadata": {},
   "outputs": [
    {
     "data": {
      "text/plain": [
       "(tensor([[ 0.0010,  0.0011,  0.0009,  ..., -0.0007, -0.0010, -0.0011]]),\n",
       " 16000,\n",
       " 'STUFF IT INTO YOU HIS BELLY COUNSELLED HIM',\n",
       " 1089,\n",
       " 134686,\n",
       " 1)"
      ]
     },
     "execution_count": 15,
     "metadata": {},
     "output_type": "execute_result"
    }
   ],
   "source": [
    "test_dataset[1]"
   ]
  },
  {
   "cell_type": "code",
   "execution_count": 17,
   "id": "a7fd95fe-449a-4362-bfa4-0dba26b2985f",
   "metadata": {},
   "outputs": [
    {
     "data": {
      "text/plain": [
       "torch.Size([1, 52400])"
      ]
     },
     "execution_count": 17,
     "metadata": {},
     "output_type": "execute_result"
    }
   ],
   "source": [
    "test_dataset[1][0].shape"
   ]
  },
  {
   "cell_type": "code",
   "execution_count": 20,
   "id": "2d079dfc-194d-468e-805f-13ff4ec05b84",
   "metadata": {},
   "outputs": [
    {
     "data": {
      "text/plain": [
       "tensor([[ 0.0010,  0.0011,  0.0009,  ..., -0.0007, -0.0010, -0.0011]])"
      ]
     },
     "execution_count": 20,
     "metadata": {},
     "output_type": "execute_result"
    }
   ],
   "source": [
    "test_dataset[1][0]"
   ]
  },
  {
   "cell_type": "markdown",
   "id": "db119e9e-449b-461f-8a4a-f2dff39eb012",
   "metadata": {},
   "source": [
    "# Sampling\n",
    "- To process audio, analog information must be divided into smaller parts and represented as discrete digital data.\n",
    "- Since it is impossible to store infinitely fine divisions, a standard is set to divide the analog information and use representative values, and this process is called sampling.\n",
    "- The Time Domain method is commonly used, where analog information is divided based on time."
   ]
  },
  {
   "cell_type": "code",
   "execution_count": null,
   "id": "175e16c5-d51e-4709-9509-4785f93642be",
   "metadata": {},
   "outputs": [],
   "source": []
  }
 ],
 "metadata": {
  "kernelspec": {
   "display_name": "Python 3 (ipykernel)",
   "language": "python",
   "name": "python3"
  },
  "language_info": {
   "codemirror_mode": {
    "name": "ipython",
    "version": 3
   },
   "file_extension": ".py",
   "mimetype": "text/x-python",
   "name": "python",
   "nbconvert_exporter": "python",
   "pygments_lexer": "ipython3",
   "version": "3.11.5"
  }
 },
 "nbformat": 4,
 "nbformat_minor": 5
}
